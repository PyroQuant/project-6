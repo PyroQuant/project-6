{
 "cells": [
  {
   "cell_type": "markdown",
   "id": "1316d99d",
   "metadata": {},
   "source": [
    "# Producción"
   ]
  },
  {
   "cell_type": "code",
   "execution_count": null,
   "id": "99c78df7",
   "metadata": {},
   "outputs": [
    {
     "name": "stdout",
     "output_type": "stream",
     "text": [
      "Preparando datos para enviar al webhook...\n",
      "Archivo agregado: web14440-7_cbc4b49b-4831-4e8a-8e5c-bec620717fb7.jpg.webp\n",
      "Campos del formulario: {'descripcion': 'Quiero bajar este refirgerador desde un piso 5 sin ascensor al primer piso y que lo suban a un camion que lo va retirar, toma al menos 1 hora y creo que serán necesarios por lo menos 2 chambers'}\n",
      "Enviando solicitud POST al webhook...\n",
      "Respuesta recibida. Código de estado: 200\n",
      "Contenido de la respuesta:\n",
      "{'output': {'precio': 'N/A - Requiere más información', 'justificacion': 'Para calcular un precio justo, necesito los siguientes detalles: tipo y peso estimado de la carga, distancia del traslado, tiempo estimado de trabajo, número de personas necesarias y cualquier factor de complejidad adicional (ej. escaleras, espacios reducidos, necesidad de equipos especiales). Con esta información, podré proporcionar una estimación precisa.'}}\n"
     ]
    }
   ],
   "source": [
    "import requests\n",
    "\n",
    "def send_post_to_webhook(descripcion, image_paths, webhook_url):\n",
    "    try:\n",
    "        print(\"Preparando datos para enviar al webhook...\")\n",
    "        files = []\n",
    "        for image_path in image_paths:\n",
    "            try:\n",
    "                f = open(image_path, \"rb\")\n",
    "                files.append(('imagenes', (image_path.split('/')[-1], f, 'application/octet-stream')))\n",
    "                print(f\"Archivo agregado: {image_path}\")\n",
    "            except Exception as img_err:\n",
    "                print(f\"Error abriendo archivo {image_path}: {img_err}\")\n",
    "\n",
    "        data = {'descripcion': descripcion}\n",
    "        print(f\"Campos del formulario: {data}\")\n",
    "        print(\"Enviando solicitud POST al webhook...\")\n",
    "        response = requests.post(webhook_url, data=data, files=files)\n",
    "        \n",
    "        # Cerrar archivos\n",
    "        for _, file_tuple in files:\n",
    "            file_tuple[1].close()\n",
    "        \n",
    "        print(f\"Respuesta recibida. Código de estado: {response.status_code}\")\n",
    "        print(\"Contenido de la respuesta:\")\n",
    "        try:\n",
    "            print(response.json())\n",
    "        except Exception:\n",
    "            print(response.text)\n",
    "    except Exception as e:\n",
    "        print(f\"Error durante el envío o proceso de la solicitud: {e}\")\n",
    "\n",
    "# Ejemplo de uso:\n",
    "webhook_url = \"https://n8n.sebagarcia.dev/webhook/d7e40f77-0c13-48a2-8848-8ac38866f17c\"\n",
    "descripcion = \"Quiero bajar este refrigerador desde un piso 5 sin ascensor al primer piso y que lo suban a un camion que lo va retirar, toma al menos 1 hora y creo que serán necesarios por lo menos 2 chambers\"\n",
    "image_paths = [\"web14440-7_cbc4b49b-4831-4e8a-8e5c-bec620717fb7.jpg.webp\"]\n",
    "send_post_to_webhook(descripcion, image_paths, webhook_url)\n"
   ]
  },
  {
   "cell_type": "markdown",
   "id": "82a6592d",
   "metadata": {},
   "source": [
    "# Test"
   ]
  },
  {
   "cell_type": "code",
   "execution_count": 10,
   "id": "dc32ac9d",
   "metadata": {},
   "outputs": [
    {
     "name": "stdout",
     "output_type": "stream",
     "text": [
      "Preparando datos para enviar al webhook...\n",
      "Archivo agregado: web14440-7_cbc4b49b-4831-4e8a-8e5c-bec620717fb7.jpg.webp\n",
      "Campos del formulario: {'descripcion': 'Quiero bajar este refirgerador desde un piso 5 sin ascensor al primer piso y que lo suban a un camion que lo va retirar, toma al menos 1 hora y creo que serán necesarios por lo menos 2 chambers'}\n",
      "Enviando solicitud POST al webhook...\n",
      "Respuesta recibida. Código de estado: 404\n",
      "Contenido de la respuesta:\n",
      "{'code': 404, 'message': 'The requested webhook \"d7e40f77-0c13-48a2-8848-8ac38866f17c\" is not registered.', 'hint': \"Click the 'Execute workflow' button on the canvas, then try again. (In test mode, the webhook only works for one call after you click this button)\"}\n"
     ]
    }
   ],
   "source": [
    "import requests\n",
    "\n",
    "def send_post_to_webhook(descripcion, image_paths, webhook_url):\n",
    "    try:\n",
    "        print(\"Preparando datos para enviar al webhook...\")\n",
    "        files = []\n",
    "        for image_path in image_paths:\n",
    "            try:\n",
    "                f = open(image_path, \"rb\")\n",
    "                files.append(('imagenes', (image_path.split('/')[-1], f, 'application/octet-stream')))\n",
    "                print(f\"Archivo agregado: {image_path}\")\n",
    "            except Exception as img_err:\n",
    "                print(f\"Error abriendo archivo {image_path}: {img_err}\")\n",
    "\n",
    "        data = {'descripcion': descripcion}\n",
    "        print(f\"Campos del formulario: {data}\")\n",
    "        print(\"Enviando solicitud POST al webhook...\")\n",
    "        response = requests.post(webhook_url, data=data, files=files)\n",
    "        \n",
    "        # Cerrar archivos\n",
    "        for _, file_tuple in files:\n",
    "            file_tuple[1].close()\n",
    "        \n",
    "        print(f\"Respuesta recibida. Código de estado: {response.status_code}\")\n",
    "        print(\"Contenido de la respuesta:\")\n",
    "        try:\n",
    "            print(response.json())\n",
    "        except Exception:\n",
    "            print(response.text)\n",
    "    except Exception as e:\n",
    "        print(f\"Error durante el envío o proceso de la solicitud: {e}\")\n",
    "\n",
    "# Ejemplo de uso:\n",
    "webhook_url = \"https://n8n.sebagarcia.dev/webhook-test/d7e40f77-0c13-48a2-8848-8ac38866f17c\"\n",
    "descripcion = \"Quiero bajar este refirgerador desde un piso 5 sin ascensor al primer piso y que lo suban a un camion que lo va retirar, toma al menos 1 hora y creo que serán necesarios por lo menos 2 chambers\"\n",
    "image_paths = [\"web14440-7_cbc4b49b-4831-4e8a-8e5c-bec620717fb7.jpg.webp\"]\n",
    "send_post_to_webhook(descripcion, image_paths, webhook_url)\n"
   ]
  }
 ],
 "metadata": {
  "kernelspec": {
   "display_name": "base",
   "language": "python",
   "name": "python3"
  },
  "language_info": {
   "codemirror_mode": {
    "name": "ipython",
    "version": 3
   },
   "file_extension": ".py",
   "mimetype": "text/x-python",
   "name": "python",
   "nbconvert_exporter": "python",
   "pygments_lexer": "ipython3",
   "version": "3.12.7"
  }
 },
 "nbformat": 4,
 "nbformat_minor": 5
}
